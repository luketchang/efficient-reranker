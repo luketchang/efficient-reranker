{
 "cells": [
  {
   "cell_type": "code",
   "execution_count": 1,
   "metadata": {},
   "outputs": [],
   "source": [
    "import json\n",
    "\n",
    "def load_hits_from_qrels_queries_corpus(qrels_file, queries_file, corpus_file=None):\n",
    "    print(f\"Loading qids from '{queries_file}'\")\n",
    "    queries = load_qids_to_queries(queries_file)\n",
    "\n",
    "    print(f\"Loading corpus from '{corpus_file}'\")\n",
    "    corpus = load_pids_to_passages(corpus_file) if corpus_file is not None else None\n",
    "\n",
    "    # Step 3: Load qrels and combine all data\n",
    "    results = {}\n",
    "    with open(qrels_file, 'r') as f:\n",
    "        for line in f:\n",
    "            # Skip if the first line is the header\n",
    "            if line.startswith(\"query-id\"):\n",
    "                continue\n",
    "\n",
    "            qid, docid, score = line.strip().split('\\t')\n",
    "            score = float(score)\n",
    "\n",
    "            # Initialize query entry if not already present\n",
    "            if qid not in results:\n",
    "                results[qid] = {'query': queries[qid], 'hits': []}\n",
    "\n",
    "            # Create a hit entry\n",
    "            hit = {\n",
    "                'qid': qid,\n",
    "                'docid': docid,\n",
    "                'score': score,\n",
    "                'content': corpus[docid] if corpus_file is not None else None\n",
    "            }\n",
    "\n",
    "            results[qid]['hits'].append(hit)\n",
    "\n",
    "    # Step 4: Sort the queries by numeric qid and their hits by score\n",
    "    rank_results = []\n",
    "    for qid in sorted(results.keys(), key=lambda x: int(x.replace(\"test\", \"\").replace(\"train\", \"\").replace(\"dev\", \"\"))):  # Sort by numeric qid\n",
    "        sorted_hits = sorted(\n",
    "            results[qid]['hits'], \n",
    "            key=lambda x: -x['score']  # Sort hits by score in descending order\n",
    "        )\n",
    "        rank_results.append({\n",
    "            'query': results[qid]['query'],\n",
    "            'hits': sorted_hits\n",
    "        })\n",
    "\n",
    "    return rank_results\n",
    "\n",
    "def load_qids_to_queries(queries_file):\n",
    "    queries = {}\n",
    "    with open(queries_file, 'r') as f:\n",
    "        for line in f:\n",
    "            line = json.loads(line)\n",
    "            qid, query = line[\"_id\"], line[\"text\"]\n",
    "            queries[qid] = query\n",
    "    return queries\n",
    "\n",
    "def load_pids_to_passages(corpus_file):\n",
    "    corpus = {}\n",
    "    with open(corpus_file, 'r') as f:\n",
    "        for line in f:\n",
    "            data = json.loads(line)\n",
    "            pid = data[\"_id\"]\n",
    "            \n",
    "            # Extract title and text, combining them if the title exists\n",
    "            title = data.get(\"title\", \"\")\n",
    "            text = data[\"text\"]\n",
    "            passage = title + \"\\n\" + text if title and title.strip() else text\n",
    "            \n",
    "            corpus[pid] = passage\n",
    "    return corpus\n",
    "\n",
    "def load_qid_to_pid_to_score(qrels_file):\n",
    "    qid_to_pid_to_score = {}\n",
    "    with open(qrels_file, 'r') as f:\n",
    "        for line in f:\n",
    "            if line.startswith(\"query-id\"):\n",
    "                continue\n",
    "\n",
    "            qid, pid, score = line.strip().split('\\t')\n",
    "            score = float(score)\n",
    "            \n",
    "            if qid not in qid_to_pid_to_score:\n",
    "                qid_to_pid_to_score[qid] = {}\n",
    "            qid_to_pid_to_score[qid][pid] = score\n",
    "    return qid_to_pid_to_score\n"
   ]
  },
  {
   "cell_type": "code",
   "execution_count": 30,
   "metadata": {},
   "outputs": [],
   "source": [
    "\n",
    "from torch.utils.data import Dataset\n",
    "\n",
    "class RawTextPairDataset(Dataset):\n",
    "    def __init__(self, qrels_path, queries_path, corpus_path):\n",
    "        rank_results = load_hits_from_qrels_queries_corpus(qrels_path, queries_path, corpus_path)\n",
    "\n",
    "        # Attach query to hits\n",
    "        for rank_result in rank_results:\n",
    "            for hit in rank_result['hits']:\n",
    "                hit['query'] = rank_result['query']\n",
    "\n",
    "        self.hits = [hit for rank_result in rank_results for hit in rank_result['hits']]\n",
    "\n",
    "    def __len__(self):\n",
    "        return len(self.hits)\n",
    "\n",
    "    def __getitem__(self, idx):\n",
    "        item = self.hits[idx]\n",
    "        return {\n",
    "            \"qid\": item['qid'],\n",
    "            \"query\": item['query'],\n",
    "            \"pid\": item['docid'],\n",
    "            \"passage\": item['content'],\n",
    "        }\n",
    "    \n",
    "    def collate_fn(self, batch):\n",
    "        qids = [sample['qid'] for sample in batch]\n",
    "        queries = [sample['query'] for sample in batch]\n",
    "        pids = [sample['pid'] for sample in batch]\n",
    "        passages = [sample['passage'] for sample in batch]\n",
    "\n",
    "        return {\n",
    "            \"qids\": qids,\n",
    "            \"queries\": queries,\n",
    "            \"pids\": pids,\n",
    "            \"passages\": passages\n",
    "        }"
   ]
  },
  {
   "cell_type": "code",
   "execution_count": 15,
   "metadata": {},
   "outputs": [
    {
     "name": "stdout",
     "output_type": "stream",
     "text": [
      "Loading qids from '../data/nq/queries.jsonl'\n",
      "Loading corpus from '../data/nq/corpus.jsonl'\n"
     ]
    }
   ],
   "source": [
    "queries_path = \"../data/nq/queries.jsonl\"\n",
    "corpus_path = \"../data/nq/corpus.jsonl\"\n",
    "qrels_path = \"../data/nq/qrels/test.tsv\"\n",
    "\n",
    "dataset = RawTextPairDataset(qrels_path, queries_path, corpus_path)"
   ]
  },
  {
   "cell_type": "code",
   "execution_count": 28,
   "metadata": {},
   "outputs": [
    {
     "data": {
      "text/plain": [
       "4201"
      ]
     },
     "execution_count": 28,
     "metadata": {},
     "output_type": "execute_result"
    }
   ],
   "source": [
    "len(dataset)"
   ]
  },
  {
   "cell_type": "code",
   "execution_count": 29,
   "metadata": {},
   "outputs": [
    {
     "data": {
      "text/plain": [
       "{'qid': 'test3450',\n",
       " 'query': 'where does the great outdoors movie take place',\n",
       " 'pid': 'doc117663',\n",
       " 'passage': 'The Great Outdoors (film)\\nChicagoan Chester \"Chet\" Ripley, his wife, Connie, and their two sons, Buckley \"Buck\" and Ben, are on vacation at a lake resort in Pechoggin, Wisconsin during the summer. All is going as planned until Connie\\'s sister, Kate, Kate\\'s investment broker husband, Roman Craig, and their twin daughters, Mara and Cara, crash the vacation.'}"
      ]
     },
     "execution_count": 29,
     "metadata": {},
     "output_type": "execute_result"
    }
   ],
   "source": [
    "dataset[4199]"
   ]
  },
  {
   "cell_type": "code",
   "execution_count": 25,
   "metadata": {},
   "outputs": [],
   "source": [
    "from torch.utils.data import DataLoader\n",
    "dataloader = DataLoader(dataset, batch_size=2, collate_fn=dataset.collate_fn)"
   ]
  },
  {
   "cell_type": "code",
   "execution_count": 27,
   "metadata": {},
   "outputs": [
    {
     "name": "stdout",
     "output_type": "stream",
     "text": [
      "{'qids': ['test0', 'test0'], 'queries': ['what is non controlling interest on balance sheet', 'what is non controlling interest on balance sheet'], 'pids': ['doc0', 'doc1'], 'passages': [\"Minority interest\\nIn accounting, minority interest (or non-controlling interest) is the portion of a subsidiary corporation's stock that is not owned by the parent corporation. The magnitude of the minority interest in the subsidiary company is generally less than 50% of outstanding shares, or the corporation would generally cease to be a subsidiary of the parent.[1]\", 'Minority interest\\nIt is, however, possible (such as through special voting rights) for a controlling interest requiring consolidation to be achieved without exceeding 50% ownership, depending on the accounting standards being employed. Minority interest belongs to other investors and is reported on the consolidated balance sheet of the owning company to reflect the claim on assets belonging to other, non-controlling shareholders. Also, minority interest is reported on the consolidated income statement as a share of profit belonging to minority shareholders.']}\n",
      "{'qids': ['test1', 'test2'], 'queries': ['how many episodes are in chicago fire season 4', 'who sings love will keep us alive by the eagles'], 'pids': ['doc6', 'doc10'], 'passages': ['Chicago Fire (season 4)\\nThe fourth season of Chicago Fire, an American drama television series with executive producer Dick Wolf, and producers Derek Haas, Michael Brandt, and Matt Olmstead, was ordered on February 5, 2015, by NBC,[1] and premiered on October 13, 2015 and concluded on May 17, 2016.[2] The season contained 23 episodes.[3]', 'Love Will Keep Us Alive\\n\"Love Will Keep Us Alive\" is a song written by Jim Capaldi, Paul Carrack, and Peter Vale, and produced by the Eagles, Elliot Scheiner, and Rob Jacobs. It was first performed by the Eagles in 1994, during their \"Hell Freezes Over\" reunion tour, with lead vocals by bassist Timothy B. Schmit.']}\n",
      "{'qids': ['test3', 'test3'], 'queries': ['who is the leader of the ontario pc party', 'who is the leader of the ontario pc party'], 'pids': ['doc17', 'doc18'], 'passages': [\"Patrick Brown (politician)\\nPatrick Walter Brown MPP (born May 26, 1978) is a Canadian politician who is the leader of the Progressive Conservative Party of Ontario and Ontario's Leader of the Official Opposition. Brown was a federal Conservative member of the House of Commons of Canada from 2006-15 representing the riding of Barrie.\", 'Patrick Brown (politician)\\nIn May 2015, Brown was elected leader of the Ontario PC Party, and stepped down as MP. He was elected Member of Provincial Parliament (MPP) for Simcoe North in a provincial by-election on September 3, 2015. Before being elected to federal office, Brown worked as a lawyer in Barrie.[1]']}\n",
      "{'qids': ['test4', 'test5'], 'queries': ['nitty gritty dirt band fishin in the dark album', 'who were the three elves who got rings'], 'pids': ['doc42', 'doc50'], 'passages': ['Fishin\\' in the Dark\\n\"Fishin\\' in the Dark\" is a song written by Wendy Waldman and Jim Photoglo and recorded by American country music group The Nitty Gritty Dirt Band. It was released in June 1987 as the second single from their album Hold On.[1] It reached number-one on the U.S. and Canadian country charts. It was the band\\'s third number-one single on the U.S. country music charts and the second in Canada. After it became available for download, it has sold over a million digital copies by 2015.[2] It was certified Platinum by the RIAA on September 12, 2014.[3]', \"Three Rings\\nAccording to Unfinished Tales, at the start of the War of the Elves and Sauron, Celebrimbor gave Narya together with the Ring Vilya to Gil-galad, High King of the Noldor. Gil-galad entrusted Narya to his lieutenant Círdan, Lord of the Havens of Mithlond, who kept it after Gil-galad's death. According to The Lord of the Rings, Gil-galad received only Vilya, while Círdan received Narya from the very beginning along with Galadriel receiving Nenya from the start.\"]}\n",
      "{'qids': ['test6', 'test6'], 'queries': ['converting stereo signal to mono signal is called', 'converting stereo signal to mono signal is called'], 'pids': ['doc59', 'doc63'], 'passages': ['Panning (audio)\\nPanning is the distribution of a sound signal (either monaural or stereophonic pairs) into a new stereo or multi-channel sound field determined by a pan control setting. A typical physical recording console has a pan control for each incoming source channel. A pan control or pan pot (short for \"panoramic potentiometer\") is an analog knob or slider with a position indicator which can range continuously from the 8 o\\'clock when fully left to the 4 o\\'clock position fully right. Audio mixing software replaces pan pots with on-screen virtual knobs or sliders which function identically to the physical counterparts.', 'Panning (audio)\\nPanning can also be used in an audio mixer to reduce or reverse the stereo width of a stereo signal. For instance, the left and right channels of a stereo source can be panned straight up, that is sent equally to both the left output and the right output of the mixer, creating a dual mono signal.[citation needed]']}\n",
      "{'qids': ['test7', 'test8'], 'queries': ['in order to prove disparate impact you first must establish', 'where do characters live in this is us'], 'pids': ['doc67', 'doc86'], 'passages': ['Disparate impact\\nA violation of Title VII of the 1964 Civil Rights Act may be proven by showing that an employment practice or policy has a disproportionately adverse effect on members of the protected class as compared with non-members of the protected class.[1] Therefore, the disparate impact theory under Title VII prohibits employers \"from using a facially neutral employment practice that has an unjustified adverse impact on members of a protected class. A facially neutral employment practice is one that does not appear to be discriminatory on its face; rather it is one that is discriminatory in its application or effect.\"[2] Where a disparate impact is shown, the plaintiff can prevail without the necessity of showing intentional discrimination unless the defendant employer demonstrates that the practice or policy in question has a demonstrable relationship to the requirements of the job in question.[3] This is the \"business necessity\" defense.[1]', \"This Is Us (TV series)\\nMost episodes feature a storyline taking place in the present (2016–2018, contemporaneous with airing) and a storyline taking place at a set time in the past; but some episodes are set in one time period or use multiple flashback time periods. Flashbacks often focus on Jack and Rebecca c.1980 both before and after their babies' birth, or on the family when the Big Three are children (at least ages 8–10) or adolescents; these scenes usually take place in Pittsburgh, where the Big Three are born and raised. Various other time periods and locations have also served a settings. As adults, Kate lives in Los Angeles, Randall and his family are in New Jersey, and Kevin relocates from Los Angeles to New York City.\"]}\n",
      "{'qids': ['test9', 'test10'], 'queries': ['who makes the decisions about what to produce in a market economy', 'when is the new tappan zee bridge going to be finished'], 'pids': ['doc91', 'doc118'], 'passages': ['Market economy\\nA market economy is an economic system where decisions regarding investment, production, and distribution are based on the interplay of supply and demand,[1] which determines the prices of goods and services.[2] The major defining characteristic of a market economy is that investment decisions, or the allocation of producer good, are primarily made through capital and financial markets.[3] This is contrasted with a planned economy, where investment and production decisions are embodied in an integrated plan of production established by a state or other organizational body that controls the factors of production.', 'Tappan Zee Bridge (2017–present)\\nTappan Zee Constructors began construction in 2013. The north span officially opened to westbound traffic on August 26, 2017; it also opened to eastbound traffic on October 6, 2017. Tappan Zee Constructors then began demolishing the old bridge. Eastbound traffic will be switched to the south span upon its completion. Both spans are expected to be operational by June 15, 2018.']}\n",
      "{'qids': ['test11', 'test12'], 'queries': [\"who recorded i can't help falling in love with you\", 'who plays the doc in back to the future'], 'pids': ['doc136', 'doc153'], 'passages': ['Can\\'t Help Falling in Love\\n\"Can\\'t Help Falling in Love\" is a pop ballad originally recorded by American singer Elvis Presley and published by Gladys Music, Presley\\'s publishing company. It was written by Hugo Peretti, Luigi Creatore, and George David Weiss.[2] The melody is based on \"Plaisir d\\'amour\",[4] a popular romance by Jean-Paul-Égide Martini (1784). The song was featured in Presley\\'s 1961 film, Blue Hawaii. During the following four decades, it was recorded by numerous other artists, including Tom Smothers, Swedish pop group A-Teens, and the British reggae group UB40, whose 1993 version topped the U.S. and UK charts.', 'Christopher Lloyd\\nChristopher Allen Lloyd (born October 22, 1938)[1] is an American actor, voice actor, and comedian. He is best known for his roles as Emmett \"Doc\" Brown in the Back to the Future trilogy, Judge Doom in Who Framed Roger Rabbit (1988), Merlock the Magician in DuckTales the Movie: Treasure of the Lost Lamp (1990), Uncle Fester in The Addams Family (1991) and its sequel Addams Family Values (1993), and Grigori Rasputin in Anastasia (1997).']}\n",
      "{'qids': ['test13', 'test14'], 'queries': ['when did they stop cigarette advertising on television', \"who has been chosen as the brand ambassador of the campaign 'beti bachao-beti padhao\"], 'pids': ['doc172', 'doc293'], 'passages': [\"Tobacco advertising\\nAfter World War II, cigarette companies advertised frequently on television programs. To combat this move by the cigarette companies, the Federal Communications Commission required television stations to air anti-smoking advertisements at no cost to the organizations providing such advertisements. In 1970, Congress took their anti-smoking initiative one step further and passed the Public Health Cigarette Smoking Act, banning the advertising of cigarettes on television and radio starting on January 2, 1971. After the television ban, most cigarette advertising took place in magazines, newspapers, and on billboards. However, in 1999 all cigarette billboard advertisements were replaced with anti-smoking messages, with some of these anti-smoking messages playing parodies of cigarette companies advertising figures and slogans. Since 1984, cigarette companies have also been forced to place Surgeon's General warnings on all cigarette packs and advertisements because of the passing of the Federal Cigarette Labeling and Advertising Act.[8] Restrictions on cigarette companies became even tighter in 2010 with the Family Smoking Prevention and Tobacco Control Act. The act prohibits tobacco companies from sponsoring sports, music, and other cultural events and also prevents the display of their logos or products on T-shirts, hats, or other apparel.[9] The constitutionality of both this act and the Food and Drug Administration's new graphic cigarette warning labels are being questioned under cigarette companies' first amendment rights.[10]\", 'Beti Bachao, Beti Padhao Yojana\\nIn 26 August 2016, Olympics 2016 bronze medallist Sakshi Malik was made brand ambassador for BBBP.[7]']}\n",
      "{'qids': ['test15', 'test16'], 'queries': ['how many seasons of prison break are on netflix', 'what was the name of atom bomb dropped by usa on hiroshima'], 'pids': ['doc302', 'doc305'], 'passages': [\"List of Prison Break episodes\\nThe first five seasons of Prison Break have been released on DVD and Blu-ray in Regions 1, 2, and 4. Each DVD boxed set includes all of the broadcast episodes from that season, the associated special episode, commentary from cast and crew, and profiles of various parts of Prison Break, such as Fox River State Penitentiary or the tattoo.[4][5][6][7] Prison Break is also available online, including iTunes, Amazon Video, and Netflix.[8][9] After the premiere of the second season of Prison Break, Fox began online streaming of the prior week's episode, though it originally restricted viewing to the United States.[10]\", \"Atomic bombings of Hiroshima and Nagasaki\\nBy August 1945, the Allies' Manhattan Project had produced two types of atomic bomb, and the 509th Composite Group of the United States Army Air Forces (USAAF) was equipped with the specialized Silverplate version of the Boeing B-29 Superfortress that could deliver them from Tinian in the Mariana Islands. Orders for atomic bombs to be used on four Japanese cities were issued on July 25. On August 6, one of its B-29s dropped a Little Boy uranium gun-type bomb on Hiroshima. Three days later, on August 9, a Fat Man plutonium implosion-type bomb was dropped by another B-29 on Nagasaki. The bombs immediately devastated their targets. Over the next two to four months, the acute effects of the atomic bombings killed 90,000–146,000 people in Hiroshima and 39,000–80,000 people in Nagasaki; roughly half of the deaths in each city occurred on the first day. Large numbers of people continued to die from the effects of burns, radiation sickness, and other injuries, compounded by illness and malnutrition, for many months afterward. In both cities, most of the dead were civilians, although Hiroshima had a sizable military garrison.\"]}\n"
     ]
    }
   ],
   "source": [
    "for i, batch in enumerate(dataloader):\n",
    "    if i == 10:\n",
    "        break\n",
    "    \n",
    "    print(batch)"
   ]
  },
  {
   "cell_type": "code",
   "execution_count": null,
   "metadata": {},
   "outputs": [],
   "source": []
  }
 ],
 "metadata": {
  "kernelspec": {
   "display_name": "venv",
   "language": "python",
   "name": "python3"
  },
  "language_info": {
   "codemirror_mode": {
    "name": "ipython",
    "version": 3
   },
   "file_extension": ".py",
   "mimetype": "text/x-python",
   "name": "python",
   "nbconvert_exporter": "python",
   "pygments_lexer": "ipython3",
   "version": "3.10.0"
  }
 },
 "nbformat": 4,
 "nbformat_minor": 2
}
