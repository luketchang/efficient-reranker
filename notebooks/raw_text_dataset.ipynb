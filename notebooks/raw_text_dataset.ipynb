{
 "cells": [
  {
   "cell_type": "code",
   "execution_count": 1,
   "metadata": {},
   "outputs": [],
   "source": [
    "import json\n",
    "\n",
    "def load_hits_from_qrels_queries_corpus(qrels_file, queries_file, corpus_file=None):\n",
    "    print(f\"Loading qids from '{queries_file}'\")\n",
    "    queries = load_qids_to_queries(queries_file)\n",
    "\n",
    "    print(f\"Loading corpus from '{corpus_file}'\")\n",
    "    corpus = load_pids_to_passages(corpus_file) if corpus_file is not None else None\n",
    "\n",
    "    # Step 3: Load qrels and combine all data\n",
    "    results = {}\n",
    "    with open(qrels_file, 'r') as f:\n",
    "        for line in f:\n",
    "            # Skip if the first line is the header\n",
    "            if line.startswith(\"query-id\"):\n",
    "                continue\n",
    "\n",
    "            qid, docid, score = line.strip().split('\\t')\n",
    "            score = float(score)\n",
    "\n",
    "            # Initialize query entry if not already present\n",
    "            if qid not in results:\n",
    "                results[qid] = {'query': queries[qid], 'hits': []}\n",
    "\n",
    "            # Create a hit entry\n",
    "            hit = {\n",
    "                'qid': qid,\n",
    "                'docid': docid,\n",
    "                'score': score,\n",
    "                'content': corpus[docid] if corpus_file is not None else None\n",
    "            }\n",
    "\n",
    "            results[qid]['hits'].append(hit)\n",
    "\n",
    "    # Step 4: Sort the queries by numeric qid and their hits by score\n",
    "    rank_results = []\n",
    "    for qid in sorted(results.keys(), key=lambda x: int(x.replace(\"test\", \"\").replace(\"train\", \"\").replace(\"dev\", \"\"))):  # Sort by numeric qid\n",
    "        sorted_hits = sorted(\n",
    "            results[qid]['hits'], \n",
    "            key=lambda x: -x['score']  # Sort hits by score in descending order\n",
    "        )\n",
    "        rank_results.append({\n",
    "            'query': results[qid]['query'],\n",
    "            'hits': sorted_hits\n",
    "        })\n",
    "\n",
    "    return rank_results\n",
    "\n",
    "def load_qids_to_queries(queries_file):\n",
    "    queries = {}\n",
    "    with open(queries_file, 'r') as f:\n",
    "        for line in f:\n",
    "            line = json.loads(line)\n",
    "            qid, query = line[\"_id\"], line[\"text\"]\n",
    "            queries[qid] = query\n",
    "    return queries\n",
    "\n",
    "def load_pids_to_passages(corpus_file):\n",
    "    corpus = {}\n",
    "    with open(corpus_file, 'r') as f:\n",
    "        for line in f:\n",
    "            data = json.loads(line)\n",
    "            pid = data[\"_id\"]\n",
    "            \n",
    "            # Extract title and text, combining them if the title exists\n",
    "            title = data.get(\"title\", \"\")\n",
    "            text = data[\"text\"]\n",
    "            passage = title + \"\\n\" + text if title and title.strip() else text\n",
    "            \n",
    "            corpus[pid] = passage\n",
    "    return corpus\n",
    "\n",
    "def load_qid_to_pid_to_score(qrels_file):\n",
    "    qid_to_pid_to_score = {}\n",
    "    with open(qrels_file, 'r') as f:\n",
    "        for line in f:\n",
    "            if line.startswith(\"query-id\"):\n",
    "                continue\n",
    "\n",
    "            qid, pid, score = line.strip().split('\\t')\n",
    "            score = float(score)\n",
    "            \n",
    "            if qid not in qid_to_pid_to_score:\n",
    "                qid_to_pid_to_score[qid] = {}\n",
    "            qid_to_pid_to_score[qid][pid] = score\n",
    "    return qid_to_pid_to_score\n"
   ]
  },
  {
   "cell_type": "code",
   "execution_count": 8,
   "metadata": {},
   "outputs": [],
   "source": [
    "\n",
    "from torch.utils.data import Dataset\n",
    "\n",
    "class RawTextPairDataset(Dataset):\n",
    "    def __init__(self, qrels_path, queries_path, corpus_path):\n",
    "        rank_results = load_hits_from_qrels_queries_corpus(qrels_path, queries_path, corpus_path)\n",
    "\n",
    "        # Attach query to hits\n",
    "        for rank_result in rank_results:\n",
    "            for hit in rank_result['hits']:\n",
    "                hit['query'] = rank_result['query']\n",
    "\n",
    "        self.hits = [hit for rank_result in rank_results for hit in rank_result['hits']]\n",
    "\n",
    "    def __len__(self):\n",
    "        return len(self.hits)\n",
    "\n",
    "    def __getitem__(self, idx):\n",
    "        item = self.hits[idx]\n",
    "        return {\n",
    "            \"qid\": item['qid'],\n",
    "            \"query\": item['query'],\n",
    "            \"pid\": item['docid'],\n",
    "            \"passage\": item['content'],\n",
    "        }\n",
    "    \n",
    "    def collate_fn(self, batch):\n",
    "        qids = [sample['qid'] for sample in batch]\n",
    "        queries = [sample['query'] for sample in batch]\n",
    "        pids = [sample['pid'] for sample in batch]\n",
    "        passages = [sample['passage'] for sample in batch]\n",
    "\n",
    "        return {\n",
    "            \"qids\": qids,\n",
    "            \"queries\": queries,\n",
    "            \"pids\": pids,\n",
    "            \"passages\": passages\n",
    "        }"
   ]
  },
  {
   "cell_type": "code",
   "execution_count": 9,
   "metadata": {},
   "outputs": [
    {
     "name": "stdout",
     "output_type": "stream",
     "text": [
      "Loading qids from '../data/nq/queries.jsonl'\n",
      "Loading corpus from '../data/nq/corpus.jsonl'\n"
     ]
    },
    {
     "ename": "KeyError",
     "evalue": "'query'",
     "output_type": "error",
     "traceback": [
      "\u001b[0;31m---------------------------------------------------------------------------\u001b[0m",
      "\u001b[0;31mKeyError\u001b[0m                                  Traceback (most recent call last)",
      "Cell \u001b[0;32mIn[9], line 5\u001b[0m\n\u001b[1;32m      2\u001b[0m corpus_path \u001b[38;5;241m=\u001b[39m \u001b[38;5;124m\"\u001b[39m\u001b[38;5;124m../data/nq/corpus.jsonl\u001b[39m\u001b[38;5;124m\"\u001b[39m\n\u001b[1;32m      3\u001b[0m qrels_path \u001b[38;5;241m=\u001b[39m \u001b[38;5;124m\"\u001b[39m\u001b[38;5;124m../data/nq/qrels/test.tsv\u001b[39m\u001b[38;5;124m\"\u001b[39m\n\u001b[0;32m----> 5\u001b[0m dataset \u001b[38;5;241m=\u001b[39m \u001b[43mRawTextPairDataset\u001b[49m\u001b[43m(\u001b[49m\u001b[43mqrels_path\u001b[49m\u001b[43m,\u001b[49m\u001b[43m \u001b[49m\u001b[43mqueries_path\u001b[49m\u001b[43m,\u001b[49m\u001b[43m \u001b[49m\u001b[43mcorpus_path\u001b[49m\u001b[43m)\u001b[49m\n",
      "Cell \u001b[0;32mIn[8], line 10\u001b[0m, in \u001b[0;36mRawTextPairDataset.__init__\u001b[0;34m(self, qrels_path, queries_path, corpus_path)\u001b[0m\n\u001b[1;32m      8\u001b[0m \u001b[38;5;28;01mfor\u001b[39;00m rank_result \u001b[38;5;129;01min\u001b[39;00m rank_results:\n\u001b[1;32m      9\u001b[0m     \u001b[38;5;28;01mfor\u001b[39;00m hit \u001b[38;5;129;01min\u001b[39;00m rank_result[\u001b[38;5;124m'\u001b[39m\u001b[38;5;124mhits\u001b[39m\u001b[38;5;124m'\u001b[39m]:\n\u001b[0;32m---> 10\u001b[0m         hit[\u001b[38;5;124m'\u001b[39m\u001b[38;5;124mquery\u001b[39m\u001b[38;5;124m'\u001b[39m] \u001b[38;5;241m=\u001b[39m \u001b[43mhit\u001b[49m\u001b[43m[\u001b[49m\u001b[38;5;124;43m'\u001b[39;49m\u001b[38;5;124;43mquery\u001b[39;49m\u001b[38;5;124;43m'\u001b[39;49m\u001b[43m]\u001b[49m\n\u001b[1;32m     12\u001b[0m \u001b[38;5;28mself\u001b[39m\u001b[38;5;241m.\u001b[39mhits \u001b[38;5;241m=\u001b[39m [hit \u001b[38;5;28;01mfor\u001b[39;00m hits \u001b[38;5;129;01min\u001b[39;00m rank_results \u001b[38;5;28;01mfor\u001b[39;00m hit \u001b[38;5;129;01min\u001b[39;00m hits]\n",
      "\u001b[0;31mKeyError\u001b[0m: 'query'"
     ]
    }
   ],
   "source": [
    "queries_path = \"../data/nq/queries.jsonl\"\n",
    "corpus_path = \"../data/nq/corpus.jsonl\"\n",
    "qrels_path = \"../data/nq/qrels/test.tsv\"\n",
    "\n",
    "dataset = RawTextPairDataset(qrels_path, queries_path, corpus_path)"
   ]
  },
  {
   "cell_type": "code",
   "execution_count": 5,
   "metadata": {},
   "outputs": [
    {
     "ename": "KeyError",
     "evalue": "'query'",
     "output_type": "error",
     "traceback": [
      "\u001b[0;31m---------------------------------------------------------------------------\u001b[0m",
      "\u001b[0;31mKeyError\u001b[0m                                  Traceback (most recent call last)",
      "Cell \u001b[0;32mIn[5], line 1\u001b[0m\n\u001b[0;32m----> 1\u001b[0m \u001b[43mdataset\u001b[49m\u001b[43m[\u001b[49m\u001b[38;5;241;43m0\u001b[39;49m\u001b[43m]\u001b[49m\n",
      "Cell \u001b[0;32mIn[2], line 15\u001b[0m, in \u001b[0;36mRawTextPairDataset.__getitem__\u001b[0;34m(self, idx)\u001b[0m\n\u001b[1;32m     11\u001b[0m \u001b[38;5;28;01mdef\u001b[39;00m \u001b[38;5;21m__getitem__\u001b[39m(\u001b[38;5;28mself\u001b[39m, idx):\n\u001b[1;32m     12\u001b[0m     item \u001b[38;5;241m=\u001b[39m \u001b[38;5;28mself\u001b[39m\u001b[38;5;241m.\u001b[39mhits[idx]\n\u001b[1;32m     13\u001b[0m     \u001b[38;5;28;01mreturn\u001b[39;00m {\n\u001b[1;32m     14\u001b[0m         \u001b[38;5;124m\"\u001b[39m\u001b[38;5;124mqid\u001b[39m\u001b[38;5;124m\"\u001b[39m: item[\u001b[38;5;124m'\u001b[39m\u001b[38;5;124mqid\u001b[39m\u001b[38;5;124m'\u001b[39m],\n\u001b[0;32m---> 15\u001b[0m         \u001b[38;5;124m\"\u001b[39m\u001b[38;5;124mquery\u001b[39m\u001b[38;5;124m\"\u001b[39m: \u001b[43mitem\u001b[49m\u001b[43m[\u001b[49m\u001b[38;5;124;43m'\u001b[39;49m\u001b[38;5;124;43mquery\u001b[39;49m\u001b[38;5;124;43m'\u001b[39;49m\u001b[43m]\u001b[49m,\n\u001b[1;32m     16\u001b[0m         \u001b[38;5;124m\"\u001b[39m\u001b[38;5;124mpid\u001b[39m\u001b[38;5;124m\"\u001b[39m: item[\u001b[38;5;124m'\u001b[39m\u001b[38;5;124mdocid\u001b[39m\u001b[38;5;124m'\u001b[39m],\n\u001b[1;32m     17\u001b[0m         \u001b[38;5;124m\"\u001b[39m\u001b[38;5;124mpassage\u001b[39m\u001b[38;5;124m\"\u001b[39m: item[\u001b[38;5;124m'\u001b[39m\u001b[38;5;124mcontent\u001b[39m\u001b[38;5;124m'\u001b[39m],\n\u001b[1;32m     18\u001b[0m     }\n",
      "\u001b[0;31mKeyError\u001b[0m: 'query'"
     ]
    }
   ],
   "source": [
    "dataset[0]"
   ]
  },
  {
   "cell_type": "code",
   "execution_count": null,
   "metadata": {},
   "outputs": [],
   "source": []
  }
 ],
 "metadata": {
  "kernelspec": {
   "display_name": "venv",
   "language": "python",
   "name": "python3"
  },
  "language_info": {
   "codemirror_mode": {
    "name": "ipython",
    "version": 3
   },
   "file_extension": ".py",
   "mimetype": "text/x-python",
   "name": "python",
   "nbconvert_exporter": "python",
   "pygments_lexer": "ipython3",
   "version": "3.10.0"
  }
 },
 "nbformat": 4,
 "nbformat_minor": 2
}
