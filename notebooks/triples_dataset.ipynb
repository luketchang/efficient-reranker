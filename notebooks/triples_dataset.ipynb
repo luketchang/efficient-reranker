{
 "cells": [
  {
   "cell_type": "code",
   "execution_count": 25,
   "metadata": {},
   "outputs": [],
   "source": [
    "import json\n",
    "\n",
    "def load_hits_from_qrels_queries_corpus(qrels_file, queries_file, corpus_file=None):\n",
    "    print(f\"Loading qids from '{queries_file}'\")\n",
    "    queries = load_qids_to_queries(queries_file)\n",
    "\n",
    "    print(f\"Loading corpus from '{corpus_file}'\")\n",
    "    corpus = load_pids_to_passages(corpus_file) if corpus_file is not None else None\n",
    "\n",
    "    # Step 3: Load qrels and combine all data\n",
    "    results = {}\n",
    "    with open(qrels_file, 'r') as f:\n",
    "        for line in f:\n",
    "            # Skip if the first line is the header\n",
    "            if line.startswith(\"query-id\"):\n",
    "                continue\n",
    "\n",
    "            qid, docid, score = line.strip().split('\\t')\n",
    "            score = float(score)\n",
    "\n",
    "            # Initialize query entry if not already present\n",
    "            if qid not in results:\n",
    "                results[qid] = {'query': queries[qid], 'hits': []}\n",
    "\n",
    "            # Create a hit entry\n",
    "            hit = {\n",
    "                'qid': qid,\n",
    "                'docid': docid,\n",
    "                'score': score,\n",
    "                'content': corpus[docid] if corpus_file is not None else None\n",
    "            }\n",
    "\n",
    "            results[qid]['hits'].append(hit)\n",
    "\n",
    "    # Step 4: Sort the queries by numeric qid and their hits by score\n",
    "    rank_results = []\n",
    "    for qid in sorted(results.keys(), key=lambda x: int(x.replace(\"test\", \"\").replace(\"train\", \"\").replace(\"dev\", \"\"))):  # Sort by numeric qid\n",
    "        sorted_hits = sorted(\n",
    "            results[qid]['hits'], \n",
    "            key=lambda x: -x['score']  # Sort hits by score in descending order\n",
    "        )\n",
    "        rank_results.append({\n",
    "            'query': results[qid]['query'],\n",
    "            'hits': sorted_hits\n",
    "        })\n",
    "\n",
    "    return rank_results\n",
    "\n",
    "def load_qids_to_queries(queries_file):\n",
    "    queries = {}\n",
    "    with open(queries_file, 'r') as f:\n",
    "        for line in f:\n",
    "            line = json.loads(line)\n",
    "            qid, query = line[\"_id\"], line[\"text\"]\n",
    "            queries[qid] = query\n",
    "    return queries\n",
    "\n",
    "def load_pids_to_passages(corpus_file):\n",
    "    corpus = {}\n",
    "    with open(corpus_file, 'r') as f:\n",
    "        for line in f:\n",
    "            data = json.loads(line)\n",
    "            pid = data[\"_id\"]\n",
    "            \n",
    "            # Extract title and text, combining them if the title exists\n",
    "            title = data.get(\"title\", \"\")\n",
    "            text = data[\"text\"]\n",
    "            passage = title + \"\\n\" + text if title and title.strip() else text\n",
    "            \n",
    "            corpus[pid] = passage\n",
    "    return corpus\n",
    "\n",
    "def load_qid_to_pid_to_score(qrels_file):\n",
    "    qid_to_pid_to_score = {}\n",
    "    with open(qrels_file, 'r') as f:\n",
    "        for line in f:\n",
    "            if line.startswith(\"query-id\"):\n",
    "                continue\n",
    "\n",
    "            qid, pid, score = line.strip().split('\\t')\n",
    "            score = float(score)\n",
    "            \n",
    "            if qid not in qid_to_pid_to_score:\n",
    "                qid_to_pid_to_score[qid] = {}\n",
    "            qid_to_pid_to_score[qid][pid] = score\n",
    "    return qid_to_pid_to_score\n"
   ]
  },
  {
   "cell_type": "code",
   "execution_count": 28,
   "metadata": {},
   "outputs": [],
   "source": [
    "\n",
    "# load ground truth positives\n",
    "# load top 30-50 reranked (negative) hits\n",
    "# treat dataset as one long list of hits\n",
    "#  - expand each query into its set of top k hits\n",
    "#  - len(dataset) = sum(len(hits) for hits in dataset)\n",
    "#  - getitem(idx) returns (idx // num queries) + (idx % num queries)\n",
    "\n",
    "# load qid --> queries\n",
    "# load pid --> passages\n",
    "# load rank results as qid --> pid --> score\n",
    "# load ground truth as qid --> pid --> score\n",
    "\n",
    "# get top 1000 embedding rank results (DONE)\n",
    "# send all embedding rank results to reranker (DONE)\n",
    "# remove false negatives (within 95% of lowest ground truth rerank score) (DONE)\n",
    "\n",
    "# need script that loads all query<>positive scores and sends to reranker for score (TODO)\n",
    "# pass positive qid->pid->score to dataset so it can put positive score onto rank result (TODO)\n",
    "\n",
    "# NOTE: we don't remove false negatives from rerank stage because we may still want to observe their behavior when sent through reranker or measure scoring\n",
    "\n",
    "from torch.utils.data import Dataset\n",
    "# from data_utils import load_qid_to_pid_to_score, load_pids_to_passages, load_hits_from_qrels_queries_corpus\n",
    "\n",
    "class TeacherTriplesDataset(Dataset):\n",
    "    def __init__(self, queries_path, corpus_path, negative_rank_results_path, ground_truth_path):\n",
    "        self.ground_truth = load_qid_to_pid_to_score(ground_truth_path)\n",
    "        self.corpus = load_pids_to_passages(corpus_path)\n",
    "        rank_results = load_hits_from_qrels_queries_corpus(negative_rank_results_path, queries_path, corpus_path)\n",
    "\n",
    "        self.negative_rank_results_with_positives = []\n",
    "        for rank_results in rank_results:\n",
    "            hits = rank_results['hits']\n",
    "            qid = hits[0]['qid']\n",
    "            if qid in self.ground_truth:\n",
    "                for positive_id in self.ground_truth[qid]:\n",
    "                    self.negative_rank_results_with_positives.append({\n",
    "                        \"query_id\": qid,\n",
    "                        \"query\": rank_results['query'],\n",
    "                        \"positive_id\": positive_id,\n",
    "                        # \"positive_score\": \"TODO\",\n",
    "                        \"hits\": hits\n",
    "                    })\n",
    "\n",
    "        # Create index mapping: [(query_idx, hit_idx)]\n",
    "        self.index_mapping = []\n",
    "        for query_idx, rank_result in enumerate(self.negative_rank_results_with_positives):\n",
    "            num_hits = len(rank_result['hits'])\n",
    "            self.index_mapping.extend([(query_idx, hit_idx) for hit_idx in range(num_hits)])\n",
    "\n",
    "    def __len__(self):\n",
    "        return len(self.index_mapping)\n",
    "\n",
    "    def __getitem__(self, idx):\n",
    "        query_idx, hit_idx = self.index_mapping[idx]\n",
    "        rank_result = self.negative_rank_results_with_positives[query_idx]\n",
    "        query = rank_result['query']\n",
    "        hit = rank_result['hits'][hit_idx]\n",
    "        return {\n",
    "            \"query\": query,\n",
    "            \"positive_id\": rank_result['positive_id'],\n",
    "            \"positive\": self.corpus[rank_result['positive_id']],\n",
    "            # TODO: positive_score\n",
    "            \"negative_id\": hit['docid'],\n",
    "            \"negative\": hit['content'],\n",
    "            \"negative_score\": hit['score']\n",
    "        }\n"
   ]
  },
  {
   "cell_type": "code",
   "execution_count": 30,
   "metadata": {},
   "outputs": [
    {
     "name": "stdout",
     "output_type": "stream",
     "text": [
      "Loading qids from '../data/nq/queries.jsonl'\n",
      "Loading corpus from '../data/nq/corpus.jsonl'\n"
     ]
    }
   ],
   "source": [
    "queries_path = \"../data/nq/queries.jsonl\"\n",
    "corpus_path = \"../data/nq/corpus.jsonl\"\n",
    "negative_rank_results_path = \"../data/nq/bge_en_icl_qrels_1000_ip.tsv\"\n",
    "ground_truth_path = \"../data/nq/qrels/test.tsv\"\n",
    "dataset = TeacherTriplesDataset(queries_path, corpus_path, negative_rank_results_path, ground_truth_path)"
   ]
  },
  {
   "cell_type": "code",
   "execution_count": 31,
   "metadata": {},
   "outputs": [
    {
     "data": {
      "text/plain": [
       "4201000"
      ]
     },
     "execution_count": 31,
     "metadata": {},
     "output_type": "execute_result"
    }
   ],
   "source": [
    "len(dataset)"
   ]
  },
  {
   "cell_type": "code",
   "execution_count": 32,
   "metadata": {},
   "outputs": [
    {
     "data": {
      "text/plain": [
       "{'query': 'where was the tv show high chaparral filmed',\n",
       " 'positive_id': 'doc114945',\n",
       " 'positive': 'The High Chaparral\\nAll the exterior filming was done at Old Tucson Studios in Arizona and in the nearby Saguaro National Park, although in a few later episodes there was some filming in California and (in season 3) in the Coronado National Forest south of Tucson. The interiors were generally filmed at the NBC television studios in Burbank, Los Angeles.[1]',\n",
       " 'negative_id': 'doc1855892',\n",
       " 'negative': \"Hill Valley (Back to the Future)\\nFor Back to the Future Part III, Hill Valley 1885 was filmed in Sonora, California. The producers were able to use the land rent-free as long as they left the buildings there. They agreed to leave everything except the Clock Tower. Interestingly, on August 10, 1996, a lightning bolt struck the town and it burned down[citation needed]. An arson fire on the Universal Studios Hollywood backlot on November 6, 1990, had previously destroyed much of Courthouse Square, the setting in which all the other time periods were filmed. However, the Courthouse itself survived the devastation.[5] Another backlot fire on September 6, 1997. again damaged Courthouse Square. In both cases, the backlot facades were then rebuilt. The Sonora location was not rebuilt. In addition, a February 14, 1999 fire at Whittier High School, California, where some (mostly exterior) scenes were filmed,[6] destroyed the men's gym there. On June 1, 2008, yet another fire destroyed part of the rebuilt Courthouse Square backlot and damaged the clock tower.[7][8]\",\n",
       " 'negative_score': 21180.25}"
      ]
     },
     "execution_count": 32,
     "metadata": {},
     "output_type": "execute_result"
    }
   ],
   "source": [
    "dataset[4088653]"
   ]
  },
  {
   "cell_type": "code",
   "execution_count": null,
   "metadata": {},
   "outputs": [],
   "source": []
  }
 ],
 "metadata": {
  "kernelspec": {
   "display_name": "venv",
   "language": "python",
   "name": "python3"
  },
  "language_info": {
   "codemirror_mode": {
    "name": "ipython",
    "version": 3
   },
   "file_extension": ".py",
   "mimetype": "text/x-python",
   "name": "python",
   "nbconvert_exporter": "python",
   "pygments_lexer": "ipython3",
   "version": "3.10.0"
  }
 },
 "nbformat": 4,
 "nbformat_minor": 2
}
